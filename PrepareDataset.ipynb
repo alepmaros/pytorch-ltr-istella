{
 "cells": [
  {
   "cell_type": "code",
   "execution_count": null,
   "id": "bf26fe2d-c65c-42d6-b842-6e9581bace79",
   "metadata": {},
   "outputs": [],
   "source": [
    "from IPython.core.display import HTML\n",
    "\n",
    "display(HTML(\"<style>pre { white-space: pre !important; }</style>\"))"
   ]
  },
  {
   "cell_type": "code",
   "execution_count": null,
   "id": "c2450148-2864-4225-9af8-4c78390d6d1e",
   "metadata": {},
   "outputs": [],
   "source": [
    "from pyspark.sql import SparkSession\n",
    "import pyspark.sql.types as T\n",
    "import pyspark.sql.functions as F\n",
    "from pyspark.sql.types import FloatType\n",
    "from pyspark.ml.linalg import DenseVector, SparseVector, Vectors, VectorUDT\n",
    "import numpy as np\n",
    "from pyspark.ml.feature import MinMaxScaler\n",
    "from pyspark.ml.feature import VectorAssembler\n",
    "\n",
    "spark = SparkSession.builder.config(\"spark.driver.memory\", \"10g\").getOrCreate()"
   ]
  },
  {
   "cell_type": "code",
   "execution_count": null,
   "id": "e1601c7a-e135-4ca5-9291-d49c826bb0b5",
   "metadata": {},
   "outputs": [],
   "source": [
    "replace_infs_udf = F.udf(lambda x: x if not np.isinf(x) else None, FloatType())\n",
    "\n",
    "toDense = lambda v: Vectors.dense(v.toArray())\n",
    "toDenseUdf = F.udf(toDense, VectorUDT())"
   ]
  },
  {
   "cell_type": "code",
   "execution_count": null,
   "id": "907dad86-0166-4474-9e79-bff558dbe4a0",
   "metadata": {},
   "outputs": [],
   "source": [
    "feature_names = []\n",
    "for ff in [\"train\", \"test\"]:\n",
    "    df = (\n",
    "        spark.read.option(\"inferSchema\", False)\n",
    "        .option(\"delimiter\", \" \")\n",
    "        .csv(f\"./datasets/istella-letor/full/{ff}.txt\")\n",
    "        .drop(\"_c222\")\n",
    "    )\n",
    "\n",
    "    for col in df.columns:\n",
    "        if col != \"_c0\":\n",
    "            df = df.withColumn(col, F.split(col, \":\").getItem(1))\n",
    "\n",
    "        if col not in [\"_c0\", \"_c1\"]:\n",
    "            if ff == \"train\":\n",
    "                feature_names.append(col)\n",
    "            df = df.withColumn(col, replace_infs_udf(F.col(col).cast(\"float\")))\n",
    "\n",
    "    df = df.fillna(0.0, subset=feature_names)\n",
    "    df = df.withColumnRenamed(\"_c0\", \"label\")\n",
    "    df = df.withColumnRenamed(\"_c1\", \"qid\")\n",
    "\n",
    "    df = df.withColumn(\"label\", F.col(\"label\").cast(\"int\"))\n",
    "    df = df.withColumn(\"qid\", F.col(\"qid\").cast(\"int\"))\n",
    "\n",
    "    assembler = VectorAssembler(inputCols=feature_names, outputCol=\"features\")\n",
    "    df = assembler.transform(df)\n",
    "\n",
    "    if ff == \"train\":\n",
    "        scaler = MinMaxScaler(inputCol=\"features\", outputCol=\"scaledFeatures\")\n",
    "        scaler = scaler.fit(df)\n",
    "        df = scaler.transform(df)\n",
    "    else:\n",
    "        df = scaler.transform(df)\n",
    "\n",
    "    # break\n",
    "    (\n",
    "        df.select(\"qid\", \"label\", toDenseUdf(F.col(\"features\")).alias(\"features\"))\n",
    "        # .select(\"qid\", \"label\", \"scaledFeatures\")\n",
    "        .write.mode(\"overwrite\")\n",
    "        .partitionBy(\"qid\")\n",
    "        .parquet(f\"./datasets/istella-letor/{ff}_parquet\")\n",
    "    )"
   ]
  }
 ],
 "metadata": {
  "kernelspec": {
   "display_name": "Python 3 (ipykernel)",
   "language": "python",
   "name": "python3"
  },
  "language_info": {
   "codemirror_mode": {
    "name": "ipython",
    "version": 3
   },
   "file_extension": ".py",
   "mimetype": "text/x-python",
   "name": "python",
   "nbconvert_exporter": "python",
   "pygments_lexer": "ipython3",
   "version": "3.10.8"
  }
 },
 "nbformat": 4,
 "nbformat_minor": 5
}
