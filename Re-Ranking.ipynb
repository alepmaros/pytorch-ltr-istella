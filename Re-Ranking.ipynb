{
 "cells": [
  {
   "cell_type": "code",
   "execution_count": 1,
   "id": "e36675ea-c347-4477-8efa-4aceb777725f",
   "metadata": {},
   "outputs": [],
   "source": [
    "# Imports"
   ]
  },
  {
   "cell_type": "code",
   "execution_count": 2,
   "id": "0159f655-0678-441f-ae89-fb5f1d50fa12",
   "metadata": {},
   "outputs": [],
   "source": [
    "# Load Data"
   ]
  },
  {
   "cell_type": "code",
   "execution_count": 3,
   "id": "94d43932-af18-4931-a076-1867949edc59",
   "metadata": {},
   "outputs": [],
   "source": [
    "# Pointwise Using RankNet (Binary Cross Entropy)"
   ]
  },
  {
   "cell_type": "code",
   "execution_count": 4,
   "id": "a8b12e30-16ca-4148-a355-26182da1cebb",
   "metadata": {},
   "outputs": [],
   "source": [
    "# Pairwise Using MarginRankingLoss\n",
    "# https://pytorch.org/docs/stable/generated/torch.nn.MarginRankingLoss.html#torch.nn.MarginRankingLoss"
   ]
  },
  {
   "cell_type": "code",
   "execution_count": 5,
   "id": "2b635c1b-e567-4253-8d3d-95742b7536b9",
   "metadata": {},
   "outputs": [],
   "source": [
    "# Some ListWise Method"
   ]
  }
 ],
 "metadata": {
  "kernelspec": {
   "display_name": "Python 3 (ipykernel)",
   "language": "python",
   "name": "python3"
  },
  "language_info": {
   "codemirror_mode": {
    "name": "ipython",
    "version": 3
   },
   "file_extension": ".py",
   "mimetype": "text/x-python",
   "name": "python",
   "nbconvert_exporter": "python",
   "pygments_lexer": "ipython3",
   "version": "3.10.8"
  }
 },
 "nbformat": 4,
 "nbformat_minor": 5
}
