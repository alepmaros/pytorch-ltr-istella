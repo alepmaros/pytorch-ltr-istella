{
 "cells": [
  {
   "cell_type": "code",
   "execution_count": null,
   "id": "ab7f2f3e-4161-425b-afb2-fafb2a300d17",
   "metadata": {},
   "outputs": [],
   "source": [
    "# Useful Links\n",
    "# Introduction to Neural Re-Ranking - https://www.youtube.com/watch?v=GSixIsI1eZE"
   ]
  },
  {
   "cell_type": "code",
   "execution_count": null,
   "id": "51fbf0a7-71b7-408e-8c3c-123cf02dffd5",
   "metadata": {},
   "outputs": [],
   "source": [
    "import glob\n",
    "import pandas as pd\n",
    "import torch\n",
    "import torch.nn as nn\n",
    "import torch.nn.functional as F\n",
    "import torch.optim as optim\n",
    "from torch.utils.data import Dataset, DataLoader\n",
    "import numpy as np"
   ]
  },
  {
   "cell_type": "code",
   "execution_count": null,
   "id": "d8cf04e9-1ea9-48e0-a1fc-3c5e1735a8b9",
   "metadata": {},
   "outputs": [],
   "source": []
  },
  {
   "cell_type": "code",
   "execution_count": null,
   "id": "2b10dc5b-b3d6-4058-9ea7-2757d08a5003",
   "metadata": {},
   "outputs": [],
   "source": []
  },
  {
   "cell_type": "code",
   "execution_count": null,
   "id": "7f4b6a74-b58f-479b-a80f-511cf4aa8a77",
   "metadata": {},
   "outputs": [],
   "source": []
  },
  {
   "cell_type": "code",
   "execution_count": null,
   "id": "ee786a31-8f4f-4009-bb66-9b38ba359208",
   "metadata": {},
   "outputs": [],
   "source": [
    "class PairWiseDataset(Dataset):\n",
    "    def __init__(self, root_dir=\"./datasets/istella-letor/train_parquet/*\"):\n",
    "        \"\"\"\n",
    "        Arguments:\n",
    "            root_dir (string): Directory with all the queries.\n",
    "        \"\"\"\n",
    "        self.queries = list()\n",
    "        for query in glob.glob(root_dir):\n",
    "            self.queries.append(query)\n",
    "\n",
    "    def __len__(self):\n",
    "        return len(self.queries)\n",
    "\n",
    "    def __getitem__(self, idx):\n",
    "        df = pd.read_parquet(glob.glob(self.queries[idx] + \"/*.parquet\")[0])\n",
    "\n",
    "        labels = torch.tensor(df[\"label\"].to_numpy().reshape(-1))\n",
    "        length_labels = labels.shape[0]\n",
    "        # TODO: Make 433 a variable\n",
    "        labels = F.pad(labels, (0, 433 - length_labels), \"constant\", -1)\n",
    "\n",
    "        features = torch.tensor(np.array(df[\"features.values\"].values.tolist()))\n",
    "        features = F.pad(features, (0, 0, 0, 433 - length_labels), \"constant\", -1)\n",
    "\n",
    "        return features, labels"
   ]
  },
  {
   "cell_type": "code",
   "execution_count": null,
   "id": "a094dd4c-4fa7-4ed6-96d2-841c369f850a",
   "metadata": {},
   "outputs": [],
   "source": [
    "train_dataset = PairWiseDataset()\n",
    "train_dataloader = DataLoader(train_dataset, batch_size=2, shuffle=True)"
   ]
  },
  {
   "cell_type": "code",
   "execution_count": null,
   "id": "3d6c531f-fff7-4b5d-a720-cc5c5eb06a2c",
   "metadata": {},
   "outputs": [],
   "source": [
    "for features, labels in train_dataloader:\n",
    "    # Here, anchor, positive, and negative are batches of samples\n",
    "    print(f\"positive: {features}\\n{features.shape}\\n\\n\")\n",
    "    print(f\"negative: {labels}\\n{labels.shape}\")\n",
    "    break"
   ]
  },
  {
   "cell_type": "code",
   "execution_count": null,
   "id": "9fa8d751-3eeb-4139-8a74-b28bdd10a2e7",
   "metadata": {},
   "outputs": [],
   "source": [
    "print(features.reshape(-1, 220))"
   ]
  },
  {
   "cell_type": "code",
   "execution_count": null,
   "id": "e851f634-d2c8-4502-9372-9f9af6aebbc5",
   "metadata": {},
   "outputs": [],
   "source": [
    "torch.cuda.is_available()"
   ]
  },
  {
   "cell_type": "code",
   "execution_count": null,
   "id": "5d3dfb29-5e07-4f15-b51a-98b388616c8e",
   "metadata": {},
   "outputs": [],
   "source": [
    "class SingleLayerNet(nn.Module):\n",
    "    def __init__(self, input_size, output_size):\n",
    "        super(SingleLayerNet, self).__init__()\n",
    "        self.fc = nn.Linear(input_size, output_size)\n",
    "\n",
    "    def forward(self, x):\n",
    "        return self.fc(x)"
   ]
  },
  {
   "cell_type": "code",
   "execution_count": null,
   "id": "ead2af0f-3c13-451a-b490-c96ceb8e1255",
   "metadata": {},
   "outputs": [],
   "source": [
    "input_size = 10  # Example input size\n",
    "output_size = 1  # Output size is 1 for ranking scores\n",
    "learning_rate = 0.01\n",
    "num_epochs = 100"
   ]
  },
  {
   "cell_type": "code",
   "execution_count": null,
   "id": "64af95dd-78f8-4211-a7fe-41d8abc5aa46",
   "metadata": {},
   "outputs": [],
   "source": [
    "model = SingleLayerNet(input_size, output_size)\n",
    "criterion = nn.MarginRankingLoss(margin=1.0)\n",
    "optimizer = optim.SGD(model.parameters(), lr=learning_rate)"
   ]
  },
  {
   "cell_type": "code",
   "execution_count": null,
   "id": "ad1021a6-0dd3-42a6-90b0-11373afdc588",
   "metadata": {},
   "outputs": [],
   "source": [
    "x1 = torch.randn(32, input_size)\n",
    "x2 = torch.randn(32, input_size)\n",
    "\n",
    "target = torch.ones(32, 1)"
   ]
  },
  {
   "cell_type": "code",
   "execution_count": null,
   "id": "26776492-a6a1-4aeb-964b-91214a81c9dc",
   "metadata": {},
   "outputs": [],
   "source": [
    "model.compile()"
   ]
  },
  {
   "cell_type": "code",
   "execution_count": null,
   "id": "daf6f07e-31d8-4d3b-b40f-43dac0a1cee8",
   "metadata": {},
   "outputs": [],
   "source": [
    "for epoch in range(num_epochs):\n",
    "    # Zero the parameter gradients\n",
    "    optimizer.zero_grad()\n",
    "\n",
    "    # Forward pass\n",
    "    output1 = model(x1)\n",
    "    output2 = model(x2)\n",
    "\n",
    "    # Compute the loss\n",
    "    loss = criterion(output1, output2, target)\n",
    "\n",
    "    # Backward pass and optimize\n",
    "    loss.backward()\n",
    "    optimizer.step()\n",
    "\n",
    "    if (epoch + 1) % 10 == 0:\n",
    "        print(f\"Epoch [{epoch+1}/{num_epochs}], Loss: {loss.item():.4f}\")\n",
    "\n",
    "print(\"Training complete.\")"
   ]
  },
  {
   "cell_type": "code",
   "execution_count": null,
   "id": "998e7fe7-ce1d-491f-ae5e-b11fb3ce25b7",
   "metadata": {},
   "outputs": [],
   "source": []
  }
 ],
 "metadata": {
  "kernelspec": {
   "display_name": "Python 3 (ipykernel)",
   "language": "python",
   "name": "python3"
  },
  "language_info": {
   "codemirror_mode": {
    "name": "ipython",
    "version": 3
   },
   "file_extension": ".py",
   "mimetype": "text/x-python",
   "name": "python",
   "nbconvert_exporter": "python",
   "pygments_lexer": "ipython3",
   "version": "3.10.8"
  }
 },
 "nbformat": 4,
 "nbformat_minor": 5
}
